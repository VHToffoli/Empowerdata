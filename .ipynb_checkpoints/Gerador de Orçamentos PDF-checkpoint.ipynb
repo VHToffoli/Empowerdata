{
 "cells": [
  {
   "cell_type": "markdown",
   "id": "457caea2",
   "metadata": {},
   "source": [
    "# Código Python para geração de orçamentos em PDF"
   ]
  },
  {
   "cell_type": "code",
   "execution_count": 2,
   "id": "29bdfab0",
   "metadata": {},
   "outputs": [
    {
     "name": "stdout",
     "output_type": "stream",
     "text": [
      "Orçamento gerado com sucesso\n",
      "Semana do Python\n"
     ]
    }
   ],
   "source": [
    "print(\"Orçamento gerado com sucesso\")"
   ]
  },
  {
   "cell_type": "markdown",
   "id": "1c098fe1",
   "metadata": {},
   "source": [
    "# Entrada de Dados"
   ]
  },
  {
   "cell_type": "code",
   "execution_count": 6,
   "id": "350799fb",
   "metadata": {},
   "outputs": [
    {
     "name": "stdout",
     "output_type": "stream",
     "text": [
      "Digite a descrição do projeto: Orçamento\n",
      "Digite o total de horas estimadas: 60\n",
      "Digite o valor da hora trabalhada: 25\n",
      "Digite o prazo estimado: 2 meses\n"
     ]
    },
    {
     "data": {
      "text/plain": [
       "'2 meses'"
      ]
     },
     "execution_count": 6,
     "metadata": {},
     "output_type": "execute_result"
    }
   ],
   "source": [
    "input (\"Digite a descrição do projeto: \")\n",
    "input (\"Digite o total de horas estimadas: \")\n",
    "input (\"Digite o valor da hora trabalhada: \")\n",
    "input (\"Digite o prazo estimado: \")"
   ]
  },
  {
   "cell_type": "markdown",
   "id": "3188cc51",
   "metadata": {},
   "source": [
    "# Gravação de Dados"
   ]
  },
  {
   "cell_type": "code",
   "execution_count": 16,
   "id": "c0ca473a",
   "metadata": {
    "scrolled": true
   },
   "outputs": [
    {
     "name": "stdout",
     "output_type": "stream",
     "text": [
      "Digite a descrição do projeto: Desenvolvimento Python\n",
      "Digite o total de horas estimadas: 200\n",
      "Digite o valor da hora trabalhada: 20\n",
      "Digite o prazo estimado: 2 meses\n"
     ]
    }
   ],
   "source": [
    "Projeto = input (\"Digite a descrição do projeto: \")\n",
    "Horas_Estimadas = input (\"Digite o total de horas estimadas: \")\n",
    "Valor_Hora = input (\"Digite o valor da hora trabalhada: \")\n",
    "Prazo_Estimado = input (\"Digite o prazo estimado: \")"
   ]
  },
  {
   "cell_type": "code",
   "execution_count": 17,
   "id": "58e0288c",
   "metadata": {},
   "outputs": [
    {
     "name": "stdout",
     "output_type": "stream",
     "text": [
      "Desenvolvimento Python\n",
      "200\n",
      "20\n",
      "2 meses\n"
     ]
    }
   ],
   "source": [
    "print (Projeto)\n",
    "print (Horas_Estimadas)\n",
    "print (Valor_Hora)\n",
    "print (Prazo_Estimado)"
   ]
  },
  {
   "cell_type": "markdown",
   "id": "d7ceb4a5",
   "metadata": {},
   "source": [
    "# Cálculos"
   ]
  },
  {
   "cell_type": "code",
   "execution_count": 18,
   "id": "1a25e2e4",
   "metadata": {},
   "outputs": [],
   "source": [
    "Total_Estimado = int(Horas_Estimadas) * int(Valor_Hora)"
   ]
  },
  {
   "cell_type": "code",
   "execution_count": 21,
   "id": "36bb9690",
   "metadata": {},
   "outputs": [
    {
     "name": "stdout",
     "output_type": "stream",
     "text": [
      "4000\n"
     ]
    }
   ],
   "source": [
    "print(Total_Estimado)"
   ]
  },
  {
   "cell_type": "markdown",
   "id": "3d51c28d",
   "metadata": {},
   "source": [
    "# Gerador de PDF"
   ]
  },
  {
   "cell_type": "code",
   "execution_count": 23,
   "id": "d0287020",
   "metadata": {},
   "outputs": [
    {
     "name": "stdout",
     "output_type": "stream",
     "text": [
      "Requirement already satisfied: fpdf in c:\\users\\vitor\\python\\anaconda3\\lib\\site-packages (1.7.2)\n"
     ]
    }
   ],
   "source": [
    "!pip install fpdf"
   ]
  },
  {
   "cell_type": "code",
   "execution_count": 29,
   "id": "bff22921",
   "metadata": {},
   "outputs": [],
   "source": [
    "from fpdf import FPDF"
   ]
  },
  {
   "cell_type": "code",
   "execution_count": 36,
   "id": "e6d2afed",
   "metadata": {},
   "outputs": [
    {
     "name": "stdout",
     "output_type": "stream",
     "text": [
      "Orçamento Gerado com Sucesso\n"
     ]
    }
   ],
   "source": [
    "pdf = FPDF()\n",
    "\n",
    "pdf.add_page()\n",
    "pdf.set_font(\"Arial\")\n",
    "pdf.image(\"template.png\", x=0, y=0)\n",
    "\n",
    "\n",
    "pdf.text(115, 145, Projeto)\n",
    "pdf.text(115, 160, Horas_Estimadas)\n",
    "pdf.text(115, 175, Valor_Hora)\n",
    "pdf.text(115, 190, Prazo_Estimado)\n",
    "pdf.text(115, 205, str(Total_Estimado))\n",
    "pdf.output(\"Orçamento.pdf\")\n",
    "print(\"Orçamento Gerado com Sucesso\")"
   ]
  },
  {
   "cell_type": "code",
   "execution_count": null,
   "id": "68791202",
   "metadata": {},
   "outputs": [],
   "source": []
  }
 ],
 "metadata": {
  "kernelspec": {
   "display_name": "Python 3 (ipykernel)",
   "language": "python",
   "name": "python3"
  },
  "language_info": {
   "codemirror_mode": {
    "name": "ipython",
    "version": 3
   },
   "file_extension": ".py",
   "mimetype": "text/x-python",
   "name": "python",
   "nbconvert_exporter": "python",
   "pygments_lexer": "ipython3",
   "version": "3.10.9"
  }
 },
 "nbformat": 4,
 "nbformat_minor": 5
}
